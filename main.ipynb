{
 "cells": [
  {
   "cell_type": "code",
   "execution_count": null,
   "metadata": {},
   "outputs": [
    {
     "name": "stdout",
     "output_type": "stream",
     "text": [
      "Целая часть от деления 5 на 30: 0\n"
     ]
    }
   ],
   "source": [
    "class Division:\n",
    "    def __init__(self, x: int, y: int):\n",
    "        self.x = x\n",
    "        self.y = y  \n",
    "    def integer_division(self):\n",
    "        if self.y == 0:\n",
    "            raise ValueError(\"Деление на ноль невозможно!\")\n",
    "        return self.x // self.y \n",
    "try:\n",
    "    x = int(input(\"Введите целое число x: \"))\n",
    "    y = int(input(\"Введите целое число y: \"))\n",
    "    division = Division(x, y) \n",
    "    result = division.integer_division()\n",
    "    print(f\"Целая часть от деления {x} на {y}: {result}\")\n",
    "except ValueError as e:\n",
    "    print(\"Ошибка:\", e)\n"
   ]
  }
 ],
 "metadata": {
  "kernelspec": {
   "display_name": "Python 3",
   "language": "python",
   "name": "python3"
  },
  "language_info": {
   "codemirror_mode": {
    "name": "ipython",
    "version": 3
   },
   "file_extension": ".py",
   "mimetype": "text/x-python",
   "name": "python",
   "nbconvert_exporter": "python",
   "pygments_lexer": "ipython3",
   "version": "3.12.7"
  }
 },
 "nbformat": 4,
 "nbformat_minor": 2
}
